{
 "cells": [
  {
   "cell_type": "code",
   "execution_count": 1,
   "metadata": {},
   "outputs": [],
   "source": [
    "from bets import Betting"
   ]
  },
  {
   "cell_type": "code",
   "execution_count": 2,
   "metadata": {},
   "outputs": [],
   "source": [
    "uva_apiKey = 'acb9ca2b9b8fc48935534934b731019c'\n",
    "my_apiKey = '9abea1938e493d654b86a31a14fd2ab6'\n",
    "my_sports = [\n",
    "    #'americanfootball_cfl',\n",
    "    #'americanfootball_ncaaf',\n",
    "    #'americanfootball_nfl',\n",
    "    #'americanfootball_nfl_preseason',\n",
    "    #'americanfootball_xfl',\n",
    "    'baseball_mlb',\n",
    "    #'baseball_mlb_preseason',\n",
    "    #'baseball_ncaa',\n",
    "    #'basketball_euroleague',\n",
    "    #'basketball_nba',\n",
    "    #'basketball_nba_preseason',\n",
    "    #'basketball_ncaab',\n",
    "    #'basketball_wnba',\n",
    "    #'icehockey_nhl'\n",
    "    ]\n",
    "my_funds = {\n",
    "    'barstool': 100,\n",
    "    'draftkings': 100,\n",
    "    'fanduel': 100\n",
    "    }\n",
    "my_markets = [\n",
    "    'h2h',\n",
    "    'spreads',\n",
    "    'totals'\n",
    "]"
   ]
  },
  {
   "cell_type": "code",
   "execution_count": 3,
   "metadata": {},
   "outputs": [],
   "source": [
    "betting = Betting(my_apiKey, my_sports, my_funds, my_markets)"
   ]
  },
  {
   "cell_type": "code",
   "execution_count": 6,
   "metadata": {},
   "outputs": [
    {
     "name": "stdout",
     "output_type": "stream",
     "text": [
      "MLB: Arizona Diamondbacks vs Texas Rangers @ 08/21 09:39 PM\n",
      "Spread +1.5 Arizona Diamondbacks ($18.367)\n",
      "    barstool: +100 Arizona Diamondbacks, $100\n",
      "    draftkings: +145 Texas Rangers, $81.633\n",
      "\n",
      "MLB: Arizona Diamondbacks vs Texas Rangers @ 08/21 09:39 PM\n",
      "Spread +1.5 Arizona Diamondbacks ($13.043)\n",
      "    barstool: +100 Arizona Diamondbacks, $100\n",
      "    fanduel: +130 Texas Rangers, $86.957\n",
      "\n",
      "MLB: Arizona Diamondbacks vs Texas Rangers @ 08/21 09:39 PM\n",
      "Total 2.5 ($5.0)\n",
      "    draftkings: -125 Over, $100\n",
      "    barstool: +140 Under, $75.0\n",
      "\n",
      "MLB: Oakland Athletics vs Kansas City Royals @ 08/21 09:41 PM\n",
      "Total 7.5 ($0.39)\n",
      "    fanduel: -104 Over, $100\n",
      "    draftkings: +105 Under, $95.61\n",
      "\n"
     ]
    }
   ],
   "source": [
    "betting.update_bets()\n",
    "betting.print_bets()"
   ]
  },
  {
   "cell_type": "code",
   "execution_count": 7,
   "metadata": {},
   "outputs": [],
   "source": [
    "import sqlite3\n",
    "import pandas as pd\n",
    "conn = sqlite3.connect('opps.db')\n",
    "query = 'SELECT * FROM opps'\n",
    "df = pd.read_sql_query(query, conn, index_col='id')\n",
    "conn.close()"
   ]
  }
 ],
 "metadata": {
  "kernelspec": {
   "display_name": "Python 3",
   "language": "python",
   "name": "python3"
  },
  "language_info": {
   "codemirror_mode": {
    "name": "ipython",
    "version": 3
   },
   "file_extension": ".py",
   "mimetype": "text/x-python",
   "name": "python",
   "nbconvert_exporter": "python",
   "pygments_lexer": "ipython3",
   "version": "3.10.9"
  },
  "orig_nbformat": 4
 },
 "nbformat": 4,
 "nbformat_minor": 2
}
