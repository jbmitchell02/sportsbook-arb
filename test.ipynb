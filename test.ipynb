{
 "cells": [
  {
   "cell_type": "code",
   "execution_count": 1,
   "metadata": {},
   "outputs": [],
   "source": [
    "import odds, arb\n",
    "api_key = 'acb9ca2b9b8fc48935534934b731019c'\n",
    "va_bookmakers = 'barstool,betmgm,betrivers,draftkings,fanduel,pointsbetus,unibet_us,williamhill_us,wynnbet'\n",
    "my_bookmakers = 'barstool,draftkings,fanduel'"
   ]
  },
  {
   "cell_type": "code",
   "execution_count": 2,
   "metadata": {},
   "outputs": [],
   "source": [
    "games = odds.get_mlb_h2h_odds(api_key, va_bookmakers)"
   ]
  },
  {
   "cell_type": "code",
   "execution_count": 3,
   "metadata": {},
   "outputs": [
    {
     "name": "stdout",
     "output_type": "stream",
     "text": [
      "H2H (San Diego Padres, Los Angeles Dodgers): -2.207%\n",
      "    wynnbet: 1.87, San Diego Padres, 1.096*b_2\n",
      "    wynnbet: 2.05, Los Angeles Dodgers, 0.912*b_1\n",
      "\n",
      "H2H (Cincinnati Reds, Miami Marlins): -1.914%\n",
      "    fanduel: 2.2, Cincinnati Reds, 0.805*b_2\n",
      "    wynnbet: 1.77, Miami Marlins, 1.243*b_1\n",
      "\n",
      "H2H (Detroit Tigers, Minnesota Twins): -1.699%\n",
      "    wynnbet: 2.5, Detroit Tigers, 0.648*b_2\n",
      "    unibet_us: 1.62, Minnesota Twins, 1.543*b_1\n",
      "\n",
      "H2H (Philadelphia Phillies, Washington Nationals): -1.889%\n",
      "    betrivers: 1.47, Philadelphia Phillies, 2.007*b_2\n",
      "    wynnbet: 2.95, Washington Nationals, 0.498*b_1\n",
      "\n",
      "H2H (Pittsburgh Pirates, Atlanta Braves): -1.025%\n",
      "    fanduel: 3.5, Pittsburgh Pirates, 0.394*b_2\n",
      "    wynnbet: 1.38, Atlanta Braves, 2.536*b_1\n",
      "\n",
      "H2H (Boston Red Sox, Kansas City Royals): -1.903%\n",
      "    draftkings: 1.51, Boston Red Sox, 1.854*b_2\n",
      "    unibet_us: 2.8, Kansas City Royals, 0.539*b_1\n",
      "\n",
      "H2H (New York Mets, Chicago Cubs): -1.782%\n",
      "    fanduel: 1.83, New York Mets, 1.158*b_2\n",
      "    unibet_us: 2.12, Chicago Cubs, 0.863*b_1\n",
      "\n",
      "H2H (Cleveland Guardians, Toronto Blue Jays): -1.436%\n",
      "    wynnbet: 2.15, Cleveland Guardians, 0.847*b_2\n",
      "    unibet_us: 1.82, Toronto Blue Jays, 1.181*b_1\n",
      "\n",
      "H2H (Chicago White Sox, New York Yankees): -2.12%\n",
      "    wynnbet: 2.45, Chicago White Sox, 0.665*b_2\n",
      "    wynnbet: 1.63, New York Yankees, 1.503*b_1\n",
      "\n",
      "H2H (Milwaukee Brewers, Colorado Rockies): -2.183%\n",
      "    wynnbet: 1.44, Milwaukee Brewers, 2.118*b_2\n",
      "    fanduel: 3.05, Colorado Rockies, 0.472*b_1\n",
      "\n",
      "H2H (Los Angeles Angels, San Francisco Giants): -1.529%\n",
      "    fanduel: 2.08, Los Angeles Angels, 0.899*b_2\n",
      "    wynnbet: 1.87, San Francisco Giants, 1.112*b_1\n",
      "\n",
      "H2H (Oakland Athletics, Texas Rangers): -1.115%\n",
      "    fanduel: 2.94, Oakland Athletics, 0.507*b_2\n",
      "    wynnbet: 1.49, Texas Rangers, 1.973*b_1\n",
      "\n"
     ]
    }
   ],
   "source": [
    "arb.h2h_arb(games)"
   ]
  }
 ],
 "metadata": {
  "kernelspec": {
   "display_name": "Python 3",
   "language": "python",
   "name": "python3"
  },
  "language_info": {
   "codemirror_mode": {
    "name": "ipython",
    "version": 3
   },
   "file_extension": ".py",
   "mimetype": "text/x-python",
   "name": "python",
   "nbconvert_exporter": "python",
   "pygments_lexer": "ipython3",
   "version": "3.10.9"
  },
  "orig_nbformat": 4
 },
 "nbformat": 4,
 "nbformat_minor": 2
}
