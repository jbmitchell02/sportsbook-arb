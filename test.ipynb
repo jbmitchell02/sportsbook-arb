{
 "cells": [
  {
   "cell_type": "code",
   "execution_count": 1,
   "metadata": {},
   "outputs": [],
   "source": [
    "from bets import Betting"
   ]
  },
  {
   "cell_type": "code",
   "execution_count": 2,
   "metadata": {},
   "outputs": [],
   "source": [
    "uva_apiKey = 'acb9ca2b9b8fc48935534934b731019c'\n",
    "my_apiKey = '9abea1938e493d654b86a31a14fd2ab6'\n",
    "my_sports = [\n",
    "    'baseball_mlb',\n",
    "    #'americanfootball_nfl_preseason'\n",
    "    ]\n",
    "my_funds = {\n",
    "    'barstool': 100,\n",
    "    'draftkings': 100,\n",
    "    'fanduel': 100\n",
    "    }\n",
    "my_markets = [\n",
    "    #'h2h',\n",
    "    'spreads',\n",
    "    #'totals'\n",
    "]"
   ]
  },
  {
   "cell_type": "code",
   "execution_count": 3,
   "metadata": {},
   "outputs": [],
   "source": [
    "betting = Betting(my_apiKey, my_sports, my_funds, my_markets)"
   ]
  },
  {
   "cell_type": "code",
   "execution_count": 4,
   "metadata": {},
   "outputs": [
    {
     "name": "stdout",
     "output_type": "stream",
     "text": [
      "MLB: Arizona Diamondbacks vs San Diego Padres @ 08/12 08:10 PM\n",
      "Spread -1.5 Arizona Diamondbacks ($-2.0)\n",
      "    barstool: +140 Arizona Diamondbacks, $70.0\n",
      "    draftkings: -147 San Diego Padres, $100\n",
      "\n",
      "MLB: Seattle Mariners vs Baltimore Orioles @ 08/12 09:40 PM\n",
      "Spread -1.5 Seattle Mariners ($-2.0)\n",
      "    barstool: +140 Seattle Mariners, $70.0\n",
      "    draftkings: -147 Baltimore Orioles, $100\n",
      "\n",
      "MLB: Houston Astros vs Los Angeles Angels @ 08/12 07:15 PM\n",
      "Spread -1.5 Houston Astros ($-2.171)\n",
      "    barstool: +105 Houston Astros, $93.171\n",
      "    fanduel: -110 Los Angeles Angels, $100\n",
      "\n",
      "MLB: Kansas City Royals vs St. Louis Cardinals @ 08/11 08:10 PM\n",
      "Spread +1.5 Kansas City Royals ($-2.783)\n",
      "    fanduel: -139 Kansas City Royals, $100\n",
      "    draftkings: +130 St. Louis Cardinals, $74.783\n",
      "\n",
      "MLB: Arizona Diamondbacks vs San Diego Padres @ 08/12 08:10 PM\n",
      "Spread -1.5 Arizona Diamondbacks ($-3.167)\n",
      "    barstool: +140 Arizona Diamondbacks, $69.167\n",
      "    fanduel: -152 San Diego Padres, $100\n",
      "\n",
      "MLB: Seattle Mariners vs Baltimore Orioles @ 08/12 09:40 PM\n",
      "Spread -1.5 Seattle Mariners ($-3.167)\n",
      "    barstool: +140 Seattle Mariners, $69.167\n",
      "    fanduel: -152 Baltimore Orioles, $100\n",
      "\n",
      "MLB: Kansas City Royals vs St. Louis Cardinals @ 08/11 08:10 PM\n",
      "Spread +1.5 Kansas City Royals ($-3.348)\n",
      "    barstool: -141 Kansas City Royals, $100\n",
      "    draftkings: +130 St. Louis Cardinals, $74.348\n",
      "\n",
      "MLB: San Francisco Giants vs Texas Rangers @ 08/12 09:05 PM\n",
      "Spread -1.5 San Francisco Giants ($-3.385)\n",
      "    barstool: +160 San Francisco Giants, $60.385\n",
      "    draftkings: -175 Texas Rangers, $100\n",
      "\n",
      "MLB: Boston Red Sox vs Detroit Tigers @ 08/11 07:10 PM\n",
      "Spread -1.5 Boston Red Sox ($-4.122)\n",
      "    barstool: +145 Boston Red Sox, $66.122\n",
      "    draftkings: -161 Detroit Tigers, $100\n",
      "\n",
      "MLB: Chicago White Sox vs Milwaukee Brewers @ 08/12 07:15 PM\n",
      "Spread +1.5 Chicago White Sox ($-4.143)\n",
      "    draftkings: -120 Chicago White Sox, $100\n",
      "    barstool: +110 Milwaukee Brewers, $87.143\n",
      "\n",
      "MLB: Kansas City Royals vs St. Louis Cardinals @ 08/12 07:10 PM\n",
      "Spread +1.5 Kansas City Royals ($-4.475)\n",
      "    draftkings: -108 Kansas City Royals, $100\n",
      "    fanduel: -102 St. Louis Cardinals, $97.475\n",
      "\n",
      "MLB: Houston Astros vs Los Angeles Angels @ 08/12 07:15 PM\n",
      "Spread -1.5 Houston Astros ($-4.5)\n",
      "    draftkings: +100 Houston Astros, $95.5\n",
      "    fanduel: -110 Los Angeles Angels, $100\n",
      "\n"
     ]
    }
   ],
   "source": [
    "betting.update_bets(-0.025)\n",
    "betting.print_bets()"
   ]
  }
 ],
 "metadata": {
  "kernelspec": {
   "display_name": "Python 3",
   "language": "python",
   "name": "python3"
  },
  "language_info": {
   "codemirror_mode": {
    "name": "ipython",
    "version": 3
   },
   "file_extension": ".py",
   "mimetype": "text/x-python",
   "name": "python",
   "nbconvert_exporter": "python",
   "pygments_lexer": "ipython3",
   "version": "3.10.9"
  },
  "orig_nbformat": 4
 },
 "nbformat": 4,
 "nbformat_minor": 2
}
