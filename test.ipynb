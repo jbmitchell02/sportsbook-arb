{
 "cells": [
  {
   "cell_type": "code",
   "execution_count": 1,
   "metadata": {},
   "outputs": [],
   "source": [
    "import arb\n",
    "api_key = 'acb9ca2b9b8fc48935534934b731019c'\n",
    "va_bookmakers = 'barstool,betmgm,betrivers,draftkings,fanduel,pointsbetus,unibet_us,williamhill_us,wynnbet'\n",
    "my_bookmakers = 'barstool,draftkings,fanduel'"
   ]
  },
  {
   "cell_type": "code",
   "execution_count": 4,
   "metadata": {},
   "outputs": [],
   "source": [
    "h2h_odds = arb.arbitrage_calc(api_key, 'h2h', va_bookmakers)"
   ]
  },
  {
   "cell_type": "code",
   "execution_count": 9,
   "metadata": {},
   "outputs": [
    {
     "name": "stdout",
     "output_type": "stream",
     "text": [
      "Spread 1.5 (Minnesota Twins, Arizona Diamondbacks): 45.178%\n",
      "    pointsbetus: 5.25 - Minnesota Twins\n",
      "    unibet_us: 4.6 - Arizona Diamondbacks\n",
      "    b2=1.1413043478260871b1\n"
     ]
    }
   ],
   "source": [
    "spreads_odds = arb.arbitrage_calc(api_key, 'spreads', va_bookmakers)"
   ]
  },
  {
   "cell_type": "code",
   "execution_count": 10,
   "metadata": {},
   "outputs": [
    {
     "data": {
      "text/html": [
       "<div>\n",
       "<style scoped>\n",
       "    .dataframe tbody tr th:only-of-type {\n",
       "        vertical-align: middle;\n",
       "    }\n",
       "\n",
       "    .dataframe tbody tr th {\n",
       "        vertical-align: top;\n",
       "    }\n",
       "\n",
       "    .dataframe thead th {\n",
       "        text-align: right;\n",
       "    }\n",
       "</style>\n",
       "<table border=\"1\" class=\"dataframe\">\n",
       "  <thead>\n",
       "    <tr style=\"text-align: right;\">\n",
       "      <th></th>\n",
       "      <th>bookmakers</th>\n",
       "      <th>Minnesota Twins</th>\n",
       "      <th>Arizona Diamondbacks</th>\n",
       "      <th>spread</th>\n",
       "    </tr>\n",
       "  </thead>\n",
       "  <tbody>\n",
       "    <tr>\n",
       "      <th>0</th>\n",
       "      <td>draftkings</td>\n",
       "      <td>1.19</td>\n",
       "      <td>4.50</td>\n",
       "      <td>1.5</td>\n",
       "    </tr>\n",
       "    <tr>\n",
       "      <th>1</th>\n",
       "      <td>barstool</td>\n",
       "      <td>1.22</td>\n",
       "      <td>4.20</td>\n",
       "      <td>1.5</td>\n",
       "    </tr>\n",
       "    <tr>\n",
       "      <th>2</th>\n",
       "      <td>fanduel</td>\n",
       "      <td>1.19</td>\n",
       "      <td>4.50</td>\n",
       "      <td>1.5</td>\n",
       "    </tr>\n",
       "    <tr>\n",
       "      <th>3</th>\n",
       "      <td>pointsbetus</td>\n",
       "      <td>5.25</td>\n",
       "      <td>1.14</td>\n",
       "      <td>1.5</td>\n",
       "    </tr>\n",
       "    <tr>\n",
       "      <th>4</th>\n",
       "      <td>betmgm</td>\n",
       "      <td>1.25</td>\n",
       "      <td>3.90</td>\n",
       "      <td>1.5</td>\n",
       "    </tr>\n",
       "    <tr>\n",
       "      <th>5</th>\n",
       "      <td>unibet_us</td>\n",
       "      <td>1.19</td>\n",
       "      <td>4.60</td>\n",
       "      <td>1.5</td>\n",
       "    </tr>\n",
       "  </tbody>\n",
       "</table>\n",
       "</div>"
      ],
      "text/plain": [
       "    bookmakers  Minnesota Twins  Arizona Diamondbacks  spread\n",
       "0   draftkings             1.19                  4.50     1.5\n",
       "1     barstool             1.22                  4.20     1.5\n",
       "2      fanduel             1.19                  4.50     1.5\n",
       "3  pointsbetus             5.25                  1.14     1.5\n",
       "4       betmgm             1.25                  3.90     1.5\n",
       "5    unibet_us             1.19                  4.60     1.5"
      ]
     },
     "execution_count": 10,
     "metadata": {},
     "output_type": "execute_result"
    }
   ],
   "source": [
    "spreads_odds[2]"
   ]
  }
 ],
 "metadata": {
  "kernelspec": {
   "display_name": "Python 3",
   "language": "python",
   "name": "python3"
  },
  "language_info": {
   "codemirror_mode": {
    "name": "ipython",
    "version": 3
   },
   "file_extension": ".py",
   "mimetype": "text/x-python",
   "name": "python",
   "nbconvert_exporter": "python",
   "pygments_lexer": "ipython3",
   "version": "3.10.9"
  },
  "orig_nbformat": 4
 },
 "nbformat": 4,
 "nbformat_minor": 2
}
