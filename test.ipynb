{
 "cells": [
  {
   "cell_type": "code",
   "execution_count": 1,
   "metadata": {},
   "outputs": [],
   "source": [
    "import arb\n",
    "api_key = 'acb9ca2b9b8fc48935534934b731019c'"
   ]
  },
  {
   "cell_type": "code",
   "execution_count": 3,
   "metadata": {},
   "outputs": [
    {
     "name": "stdout",
     "output_type": "stream",
     "text": [
      "H2H (Atlanta Braves, Los Angeles Angels): 0.913%\n",
      "    betmgm: 34.0 - Atlanta Braves\n",
      "    draftkings: 1.04 - Los Angeles Angels\n",
      "H2H (Houston Astros, Cleveland Guardians): 0.746%\n",
      "    pointsbetus: 1.08 - Houston Astros\n",
      "    unibet_us: 15.0 - Cleveland Guardians\n"
     ]
    }
   ],
   "source": [
    "arb.arbitrage_calc(api_key, 'h2h')"
   ]
  },
  {
   "cell_type": "code",
   "execution_count": 4,
   "metadata": {},
   "outputs": [],
   "source": [
    "arb.arbitrage_calc(api_key, 'spreads')"
   ]
  }
 ],
 "metadata": {
  "kernelspec": {
   "display_name": "Python 3",
   "language": "python",
   "name": "python3"
  },
  "language_info": {
   "codemirror_mode": {
    "name": "ipython",
    "version": 3
   },
   "file_extension": ".py",
   "mimetype": "text/x-python",
   "name": "python",
   "nbconvert_exporter": "python",
   "pygments_lexer": "ipython3",
   "version": "3.10.9"
  },
  "orig_nbformat": 4
 },
 "nbformat": 4,
 "nbformat_minor": 2
}
