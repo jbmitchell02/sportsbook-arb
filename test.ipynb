{
 "cells": [
  {
   "cell_type": "code",
   "execution_count": 1,
   "metadata": {},
   "outputs": [],
   "source": [
    "import odds, arb\n",
    "api_key = 'acb9ca2b9b8fc48935534934b731019c'\n",
    "va_bookmakers = 'barstool,betmgm,betrivers,draftkings,fanduel,pointsbetus,unibet_us,williamhill_us,wynnbet'\n",
    "my_bookmakers = 'barstool,draftkings,fanduel'"
   ]
  },
  {
   "cell_type": "code",
   "execution_count": 2,
   "metadata": {},
   "outputs": [
    {
     "name": "stdout",
     "output_type": "stream",
     "text": [
      "Spread 1.5 (San Diego Padres, Los Angeles Dodgers): 27.451%\n",
      "    fanduel: 2.5, San Diego Padres, 1.04*b_2\n",
      "    barstool: 2.6, Los Angeles Dodgers, 0.962*b_1\n",
      "\n"
     ]
    }
   ],
   "source": [
    "arb.arbitrage_calc(api_key, bookmakers=my_bookmakers)"
   ]
  }
 ],
 "metadata": {
  "kernelspec": {
   "display_name": "Python 3",
   "language": "python",
   "name": "python3"
  },
  "language_info": {
   "codemirror_mode": {
    "name": "ipython",
    "version": 3
   },
   "file_extension": ".py",
   "mimetype": "text/x-python",
   "name": "python",
   "nbconvert_exporter": "python",
   "pygments_lexer": "ipython3",
   "version": "3.10.9"
  },
  "orig_nbformat": 4
 },
 "nbformat": 4,
 "nbformat_minor": 2
}
