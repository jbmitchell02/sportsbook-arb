{
 "cells": [
  {
   "cell_type": "code",
   "execution_count": 1,
   "metadata": {},
   "outputs": [],
   "source": [
    "from bets import MLBBetting\n",
    "api_key = 'acb9ca2b9b8fc48935534934b731019c'\n",
    "my_funds = {'barstool': 100, 'draftkings': 100, 'fanduel': 100}"
   ]
  },
  {
   "cell_type": "code",
   "execution_count": 2,
   "metadata": {},
   "outputs": [
    {
     "name": "stdout",
     "output_type": "stream",
     "text": [
      "H2H: Colorado Rockies @ Los Angeles Dodgers $-2.463\n",
      "    draftkings: -345 Los Angeles Dodgers, $100\n",
      "    fanduel: +310 Colorado Rockies, $31.463\n",
      "\n",
      "H2H: Colorado Rockies @ Los Angeles Dodgers $-2.463\n",
      "    barstool: -345 Los Angeles Dodgers, $100\n",
      "    fanduel: +310 Colorado Rockies, $31.463\n",
      "\n",
      "H2H: Kansas City Royals @ Boston Red Sox $-3.063\n",
      "    draftkings: -244 Boston Red Sox, $100\n",
      "    fanduel: +220 Kansas City Royals, $44.062\n",
      "\n",
      "Total 9.5: Atlanta Braves @ Pittsburgh Pirates $-3.195\n",
      "    fanduel: -112 Over, $100\n",
      "    barstool: +105 Under, $92.195\n",
      "\n",
      "Spread +1.5: Houston Astros @ Baltimore Orioles $-3.854\n",
      "    draftkings: -161 Baltimore Orioles, $100\n",
      "    fanduel: +146 Houston Astros, $65.854\n",
      "\n",
      "Spread -1.5: St. Louis Cardinals @ Tampa Bay Rays $-4.112\n",
      "    draftkings: +114 Tampa Bay Rays, $84.112\n",
      "    barstool: -125 St. Louis Cardinals, $100\n",
      "\n"
     ]
    }
   ],
   "source": [
    "betting = MLBBetting(api_key, my_funds)\n",
    "betting.update_bets(-0.025)\n",
    "betting.print_bets()"
   ]
  }
 ],
 "metadata": {
  "kernelspec": {
   "display_name": "Python 3",
   "language": "python",
   "name": "python3"
  },
  "language_info": {
   "codemirror_mode": {
    "name": "ipython",
    "version": 3
   },
   "file_extension": ".py",
   "mimetype": "text/x-python",
   "name": "python",
   "nbconvert_exporter": "python",
   "pygments_lexer": "ipython3",
   "version": "3.10.9"
  },
  "orig_nbformat": 4
 },
 "nbformat": 4,
 "nbformat_minor": 2
}
