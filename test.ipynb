{
 "cells": [
  {
   "cell_type": "code",
   "execution_count": 3,
   "metadata": {},
   "outputs": [],
   "source": [
    "from bets import MLBBetting\n",
    "api_key = 'acb9ca2b9b8fc48935534934b731019c'\n",
    "my_funds = {'barstool': 1000, 'draftkings': 100, 'fanduel': 500}"
   ]
  },
  {
   "cell_type": "code",
   "execution_count": 4,
   "metadata": {},
   "outputs": [
    {
     "name": "stdout",
     "output_type": "stream",
     "text": [
      "H2H: Colorado Rockies @ Los Angeles Dodgers $-2.463\n",
      "    draftkings: 1.29 Los Angeles Dodgers, $100\n",
      "    fanduel: 4.1 Colorado Rockies, $31.463\n",
      "\n",
      "H2H: Kansas City Royals @ Boston Red Sox $-3.063\n",
      "    draftkings: 1.41 Boston Red Sox, $100\n",
      "    fanduel: 3.2 Kansas City Royals, $44.062\n",
      "\n",
      "Spread -1.5: St. Louis Cardinals @ Tampa Bay Rays $-4.889\n",
      "    draftkings: 2.14 Tampa Bay Rays, $100\n",
      "    barstool: 1.8 St. Louis Cardinals, $118.889\n",
      "\n",
      "Total 9.5: Atlanta Braves @ Pittsburgh Pirates $-15.976\n",
      "    fanduel: 1.89 Pittsburgh Pirates, $500\n",
      "    barstool: 2.05 Atlanta Braves, $460.976\n",
      "\n",
      "H2H: Colorado Rockies @ Los Angeles Dodgers $-24.634\n",
      "    barstool: 1.29 Los Angeles Dodgers, $1000\n",
      "    fanduel: 4.1 Colorado Rockies, $314.634\n",
      "\n"
     ]
    }
   ],
   "source": [
    "betting = MLBBetting(api_key, my_funds)\n",
    "betting.update_bets(-0.025)\n",
    "betting.print_bets()"
   ]
  }
 ],
 "metadata": {
  "kernelspec": {
   "display_name": "Python 3",
   "language": "python",
   "name": "python3"
  },
  "language_info": {
   "codemirror_mode": {
    "name": "ipython",
    "version": 3
   },
   "file_extension": ".py",
   "mimetype": "text/x-python",
   "name": "python",
   "nbconvert_exporter": "python",
   "pygments_lexer": "ipython3",
   "version": "3.10.9"
  },
  "orig_nbformat": 4
 },
 "nbformat": 4,
 "nbformat_minor": 2
}
