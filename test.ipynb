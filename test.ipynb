{
 "cells": [
  {
   "cell_type": "code",
   "execution_count": 1,
   "metadata": {},
   "outputs": [],
   "source": [
    "from bets import Betting"
   ]
  },
  {
   "cell_type": "code",
   "execution_count": 2,
   "metadata": {},
   "outputs": [],
   "source": [
    "uva_apiKey = 'acb9ca2b9b8fc48935534934b731019c'\n",
    "my_apiKey = '9abea1938e493d654b86a31a14fd2ab6'\n",
    "my_sports = [\n",
    "    'baseball_mlb',\n",
    "    #'americanfootball_nfl_preseason'\n",
    "    ]\n",
    "my_funds = {\n",
    "    'barstool': 100,\n",
    "    'draftkings': 100,\n",
    "    'fanduel': 100\n",
    "    }\n",
    "my_markets = [\n",
    "    'h2h',\n",
    "    'spreads',\n",
    "    'totals'\n",
    "]"
   ]
  },
  {
   "cell_type": "code",
   "execution_count": 3,
   "metadata": {},
   "outputs": [],
   "source": [
    "betting = Betting(uva_apiKey, my_sports, my_funds, my_markets)"
   ]
  },
  {
   "cell_type": "code",
   "execution_count": 6,
   "metadata": {},
   "outputs": [],
   "source": [
    "betting.update_bets()\n",
    "betting.print_bets()"
   ]
  },
  {
   "cell_type": "code",
   "execution_count": 7,
   "metadata": {},
   "outputs": [],
   "source": [
    "import sqlite3\n",
    "import pandas as pd\n",
    "conn = sqlite3.connect('opps.db')\n",
    "query = 'SELECT * FROM opps'\n",
    "df = pd.read_sql_query(query, conn)\n",
    "conn.close()"
   ]
  }
 ],
 "metadata": {
  "kernelspec": {
   "display_name": "Python 3",
   "language": "python",
   "name": "python3"
  },
  "language_info": {
   "codemirror_mode": {
    "name": "ipython",
    "version": 3
   },
   "file_extension": ".py",
   "mimetype": "text/x-python",
   "name": "python",
   "nbconvert_exporter": "python",
   "pygments_lexer": "ipython3",
   "version": "3.10.9"
  },
  "orig_nbformat": 4
 },
 "nbformat": 4,
 "nbformat_minor": 2
}
