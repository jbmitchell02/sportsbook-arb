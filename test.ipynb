{
 "cells": [
  {
   "cell_type": "code",
   "execution_count": 1,
   "metadata": {},
   "outputs": [],
   "source": [
    "from arb import MLBArbitrage\n",
    "api_key = 'acb9ca2b9b8fc48935534934b731019c'\n",
    "va_bookmakers = 'barstool,betmgm,betrivers,draftkings,fanduel,pointsbetus,unibet_us,williamhill_us,wynnbet'\n",
    "my_bookmakers = 'barstool,draftkings,fanduel'"
   ]
  },
  {
   "cell_type": "code",
   "execution_count": 2,
   "metadata": {},
   "outputs": [],
   "source": [
    "arb = MLBArbitrage(api_key)"
   ]
  },
  {
   "cell_type": "code",
   "execution_count": 3,
   "metadata": {},
   "outputs": [
    {
     "name": "stdout",
     "output_type": "stream",
     "text": [
      "Spread -4.5: San Diego Padres @ Seattle Mariners - 7.065%\n",
      "    mybookieag: 1.37 Seattle Mariners, 3.577*B2\n",
      "    draftkings: 4.9 San Diego Padres, 0.28*B1\n",
      "\n",
      "Spread -4.5: San Diego Padres @ Seattle Mariners - 5.561%\n",
      "    mybookieag: 1.37 Seattle Mariners, 3.358*B2\n",
      "    fanduel: 4.6 San Diego Padres, 0.298*B1\n",
      "\n",
      "Spread -4.5: San Diego Padres @ Seattle Mariners - 3.603%\n",
      "    mybookieag: 1.37 Seattle Mariners, 3.102*B2\n",
      "    twinspires: 4.25 San Diego Padres, 0.322*B1\n",
      "\n",
      "Spread -4.5: San Diego Padres @ Seattle Mariners - 3.603%\n",
      "    mybookieag: 1.37 Seattle Mariners, 3.102*B2\n",
      "    unibet_us: 4.25 San Diego Padres, 0.322*B1\n",
      "\n",
      "Spread -4.5: San Diego Padres @ Seattle Mariners - 1.385%\n",
      "    mybookieag: 1.37 Seattle Mariners, 2.847*B2\n",
      "    betmgm: 3.9 San Diego Padres, 0.351*B1\n",
      "\n",
      "Spread -4.5: San Diego Padres @ Seattle Mariners - 0.859%\n",
      "    wynnbet: 1.27 Seattle Mariners, 3.858*B2\n",
      "    draftkings: 4.9 San Diego Padres, 0.259*B1\n",
      "\n",
      "Spread -4.5: San Diego Padres @ Seattle Mariners - 0.859%\n",
      "    barstool: 1.27 Seattle Mariners, 3.858*B2\n",
      "    draftkings: 4.9 San Diego Padres, 0.259*B1\n",
      "\n",
      "Spread -4.5: San Diego Padres @ Seattle Mariners - 0.696%\n",
      "    mybookieag: 1.37 Seattle Mariners, 2.774*B2\n",
      "    barstool: 3.8 San Diego Padres, 0.361*B1\n",
      "\n",
      "Spread -4.5: San Diego Padres @ Seattle Mariners - 0.227%\n",
      "    bovada: 1.26 Seattle Mariners, 3.889*B2\n",
      "    draftkings: 4.9 San Diego Padres, 0.257*B1\n",
      "\n"
     ]
    }
   ],
   "source": [
    "arb.update_opps(0)\n",
    "arb.print_opps()"
   ]
  }
 ],
 "metadata": {
  "kernelspec": {
   "display_name": "Python 3",
   "language": "python",
   "name": "python3"
  },
  "language_info": {
   "codemirror_mode": {
    "name": "ipython",
    "version": 3
   },
   "file_extension": ".py",
   "mimetype": "text/x-python",
   "name": "python",
   "nbconvert_exporter": "python",
   "pygments_lexer": "ipython3",
   "version": "3.10.9"
  },
  "orig_nbformat": 4
 },
 "nbformat": 4,
 "nbformat_minor": 2
}
