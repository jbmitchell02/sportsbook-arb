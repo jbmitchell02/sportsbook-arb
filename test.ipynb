{
 "cells": [
  {
   "cell_type": "code",
   "execution_count": 10,
   "metadata": {},
   "outputs": [],
   "source": [
    "from bets import Betting\n",
    "uva_apiKey = 'acb9ca2b9b8fc48935534934b731019c'\n",
    "my_apiKey = '9abea1938e493d654b86a31a14fd2ab6'\n",
    "sports = [\n",
    "    #'baseball_mlb',\n",
    "    #'americanfootball_nfl_preseason'\n",
    "    ]\n",
    "my_funds = {\n",
    "    'barstool': 100,\n",
    "    'draftkings': 100,\n",
    "    'fanduel': 100\n",
    "    }"
   ]
  },
  {
   "cell_type": "code",
   "execution_count": 11,
   "metadata": {},
   "outputs": [],
   "source": [
    "betting = Betting(my_apiKey, sports, my_funds)\n",
    "betting.update_bets(-0.02)\n",
    "betting.print_bets()"
   ]
  }
 ],
 "metadata": {
  "kernelspec": {
   "display_name": "Python 3",
   "language": "python",
   "name": "python3"
  },
  "language_info": {
   "codemirror_mode": {
    "name": "ipython",
    "version": 3
   },
   "file_extension": ".py",
   "mimetype": "text/x-python",
   "name": "python",
   "nbconvert_exporter": "python",
   "pygments_lexer": "ipython3",
   "version": "3.10.9"
  },
  "orig_nbformat": 4
 },
 "nbformat": 4,
 "nbformat_minor": 2
}
