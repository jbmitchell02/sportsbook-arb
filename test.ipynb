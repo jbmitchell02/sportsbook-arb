{
 "cells": [
  {
   "cell_type": "code",
   "execution_count": 1,
   "metadata": {},
   "outputs": [],
   "source": [
    "from bets import Betting"
   ]
  },
  {
   "cell_type": "code",
   "execution_count": 2,
   "metadata": {},
   "outputs": [],
   "source": [
    "uva_apiKey = 'acb9ca2b9b8fc48935534934b731019c'\n",
    "my_apiKey = '9abea1938e493d654b86a31a14fd2ab6'\n",
    "my_sports = [\n",
    "    #'americanfootball_cfl',\n",
    "    #'americanfootball_ncaaf',\n",
    "    #'americanfootball_nfl',\n",
    "    #'americanfootball_nfl_preseason',\n",
    "    #'americanfootball_xfl',\n",
    "    'baseball_mlb',\n",
    "    #'baseball_mlb_preseason',\n",
    "    #'baseball_ncaa',\n",
    "    #'basketball_euroleague',\n",
    "    #'basketball_nba',\n",
    "    #'basketball_nba_preseason',\n",
    "    #'basketball_ncaab',\n",
    "    #'basketball_wnba',\n",
    "    #'icehockey_nhl'\n",
    "    ]\n",
    "my_funds = {\n",
    "    'barstool': 100,\n",
    "    'draftkings': 100,\n",
    "    'fanduel': 100\n",
    "    }\n",
    "my_markets = [\n",
    "    'h2h',\n",
    "    'spreads',\n",
    "    'totals'\n",
    "]"
   ]
  },
  {
   "cell_type": "code",
   "execution_count": 3,
   "metadata": {},
   "outputs": [],
   "source": [
    "betting = Betting(uva_apiKey, my_sports, my_funds, my_markets)"
   ]
  },
  {
   "cell_type": "code",
   "execution_count": 6,
   "metadata": {},
   "outputs": [
    {
     "name": "stdout",
     "output_type": "stream",
     "text": [
      "MLB: Atlanta Braves vs New York Yankees @ 08/14 07:20 PM\n",
      "Spread -1.5 Atlanta Braves ($-3.095)\n",
      "    barstool: +110 Atlanta Braves, $88.095\n",
      "    fanduel: -118 New York Yankees, $100\n",
      "\n",
      "MLB: Washington Nationals vs Boston Red Sox @ 08/15 07:05 PM\n",
      "Total 9.0 ($-3.485)\n",
      "    fanduel: -102 Over, $98.485\n",
      "    draftkings: -105 Under, $100\n",
      "\n",
      "MLB: Cincinnati Reds vs Cleveland Guardians @ 08/15 06:40 PM\n",
      "H2H ($-3.777)\n",
      "    fanduel: +106 Cincinnati Reds, $90.777\n",
      "    barstool: -115 Cleveland Guardians, $100\n",
      "\n"
     ]
    }
   ],
   "source": [
    "betting.update_bets(-0.02)\n",
    "betting.print_bets()"
   ]
  },
  {
   "cell_type": "code",
   "execution_count": 5,
   "metadata": {},
   "outputs": [],
   "source": [
    "import sqlite3\n",
    "import pandas as pd\n",
    "conn = sqlite3.connect('opps.db')\n",
    "query = 'SELECT * FROM opps'\n",
    "df = pd.read_sql_query(query, conn, index_col='id')\n",
    "conn.close()"
   ]
  }
 ],
 "metadata": {
  "kernelspec": {
   "display_name": "Python 3",
   "language": "python",
   "name": "python3"
  },
  "language_info": {
   "codemirror_mode": {
    "name": "ipython",
    "version": 3
   },
   "file_extension": ".py",
   "mimetype": "text/x-python",
   "name": "python",
   "nbconvert_exporter": "python",
   "pygments_lexer": "ipython3",
   "version": "3.10.9"
  },
  "orig_nbformat": 4
 },
 "nbformat": 4,
 "nbformat_minor": 2
}
